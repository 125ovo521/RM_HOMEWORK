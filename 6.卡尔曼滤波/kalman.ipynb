{
 "cells": [
  {
   "cell_type": "code",
   "execution_count": 14,
   "metadata": {},
   "outputs": [
    {
     "name": "stderr",
     "output_type": "stream",
     "text": [
      "d:\\Python\\lib\\site-packages\\IPython\\core\\pylabtools.py:151: UserWarning: Glyph 30495 (\\N{CJK UNIFIED IDEOGRAPH-771F}) missing from current font.\n",
      "  fig.canvas.print_figure(bytes_io, **kw)\n",
      "d:\\Python\\lib\\site-packages\\IPython\\core\\pylabtools.py:151: UserWarning: Glyph 20540 (\\N{CJK UNIFIED IDEOGRAPH-503C}) missing from current font.\n",
      "  fig.canvas.print_figure(bytes_io, **kw)\n",
      "d:\\Python\\lib\\site-packages\\IPython\\core\\pylabtools.py:151: UserWarning: Glyph 22122 (\\N{CJK UNIFIED IDEOGRAPH-566A}) missing from current font.\n",
      "  fig.canvas.print_figure(bytes_io, **kw)\n",
      "d:\\Python\\lib\\site-packages\\IPython\\core\\pylabtools.py:151: UserWarning: Glyph 22768 (\\N{CJK UNIFIED IDEOGRAPH-58F0}) missing from current font.\n",
      "  fig.canvas.print_figure(bytes_io, **kw)\n",
      "d:\\Python\\lib\\site-packages\\IPython\\core\\pylabtools.py:151: UserWarning: Glyph 28388 (\\N{CJK UNIFIED IDEOGRAPH-6EE4}) missing from current font.\n",
      "  fig.canvas.print_figure(bytes_io, **kw)\n",
      "d:\\Python\\lib\\site-packages\\IPython\\core\\pylabtools.py:151: UserWarning: Glyph 27874 (\\N{CJK UNIFIED IDEOGRAPH-6CE2}) missing from current font.\n",
      "  fig.canvas.print_figure(bytes_io, **kw)\n",
      "d:\\Python\\lib\\site-packages\\IPython\\core\\pylabtools.py:151: UserWarning: Glyph 25928 (\\N{CJK UNIFIED IDEOGRAPH-6548}) missing from current font.\n",
      "  fig.canvas.print_figure(bytes_io, **kw)\n",
      "d:\\Python\\lib\\site-packages\\IPython\\core\\pylabtools.py:151: UserWarning: Glyph 26524 (\\N{CJK UNIFIED IDEOGRAPH-679C}) missing from current font.\n",
      "  fig.canvas.print_figure(bytes_io, **kw)\n"
     ]
    },
    {
     "data": {
      "image/png": "[encoded data removed]",
      "text/plain": [
       "<Figure size 720x432 with 1 Axes>"
      ]
     },
     "metadata": {
      "needs_background": "light"
     },
     "output_type": "display_data"
    }
   ],
   "source": [
    "import numpy as np\n",
    "import matplotlib.pyplot as plt\n",
    "\n",
    "true = np.linspace(80, 80, 200)  # 生成一个平行于x轴的直线轨迹\n",
    "noise_degree = 0.01  # 设置噪声程度\n",
    "#噪声\n",
    "measured = true + noise_degree * np.random.randn(200)\n",
    "\n",
    "\n",
    "# 卡尔曼滤波参数\n",
    "f_mat = 1  #状态转移矩阵\n",
    "h_mat = 1  #观测矩阵\n",
    "q_mat = 0.001  #过程噪声协方差\n",
    "r_mat = noise_degree ** 2 #噪声协方差\n",
    "p_mat = 1  #初始估计协方差\n",
    "x_mat = measured[0]  #初始状态估计\n",
    "\n",
    "#结果\n",
    "# y = []\n",
    "y = [0] * len(measured) #设置初始为0\n",
    "\n",
    "\n",
    "#卡尔曼滤波器的5个公式\n",
    "for measurement in measured:\n",
    "    #预测\n",
    "    x_predict = f_mat * x_mat\n",
    "    p_predict = f_mat * p_mat * f_mat + q_mat\n",
    "    #更新\n",
    "    kalman = p_predict * h_mat / (h_mat * p_predict * h_mat + r_mat)\n",
    "    x_mat = x_predict + kalman * (measurement - h_mat * x_predict)\n",
    "    p_mat = (1 - kalman * h_mat) * p_predict\n",
    "    y.append(x_mat)\n",
    "\n",
    "\n",
    "\n",
    "#画图\n",
    "plt.figure(figsize=(10, 6))\n",
    "plt.plot(true, label='真值', color='green')\n",
    "plt.plot(measured, label='噪声', color='red', alpha=0.5)\n",
    "plt.plot(y, label='滤波效果', color='blue')\n",
    "plt.legend(loc='lower right')\n",
    "plt.xlabel('Time Steps')\n",
    "plt.ylabel('Value')\n",
    "plt.show()\n",
    "\n",
    "\n"
   ]
  }
 ],
 "metadata": {
  "kernelspec": {
   "display_name": "base",
   "language": "python",
   "name": "python3"
  },
  "language_info": {
   "codemirror_mode": {
    "name": "ipython",
    "version": 3
   },
   "file_extension": ".py",
   "mimetype": "text/x-python",
   "name": "python",
   "nbconvert_exporter": "python",
   "pygments_lexer": "ipython3",
   "version": "3.9.0"
  },
  "orig_nbformat": 4
 },
 "nbformat": 4,
 "nbformat_minor": 2
}
